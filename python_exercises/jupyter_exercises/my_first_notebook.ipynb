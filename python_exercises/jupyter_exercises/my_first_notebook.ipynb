{
 "cells": [
  {
   "cell_type": "code",
   "execution_count": null,
   "id": "aae570d9",
   "metadata": {
    "pycharm": {
     "is_executing": true
    }
   },
   "outputs": [],
   "source": [
    "\"\"\"\n",
    "Jupyter Notebook Shortcuts: \n",
    "\n",
    "- Shift + Enter run the current cell, select below\n",
    "\n",
    "- Ctrl + Enter run selected cells\n",
    "\n",
    "- Alt + Enter run the current cell, insert below\n",
    "\n",
    "- Ctrl + S save and checkpoint\n",
    "\"\"\"\n",
    "\n",
    "ans = input(\"Would you like to begin working in Python? \")\n",
    "\n",
    "print(\"Then let's do this!\")\n"
   ]
  },
  {
   "cell_type": "code",
   "execution_count": null,
   "id": "7930614d",
   "metadata": {},
   "outputs": [],
   "source": [
    "input(\"We are breezing through python baby!\")"
   ]
  },
  {
   "cell_type": "code",
   "execution_count": 7,
   "id": "eade8cea",
   "metadata": {},
   "outputs": [
    {
     "name": "stdout",
     "output_type": "stream",
     "text": [
      "Input a number: 102\n",
      "Another one: 134\n",
      "We will now combine the numbers!\n",
      "102 + 134 = 102134\n"
     ]
    }
   ],
   "source": [
    "x = input(\"Input a number: \")\n",
    "y = input(\"Another one: \")\n",
    "\n",
    "print(\"We will now combine the numbers!\")\n",
    "print(x,\"and\",y, \"=\", (x+y))"
   ]
  },
  {
   "cell_type": "code",
   "execution_count": null,
   "id": "18841865",
   "metadata": {},
   "outputs": [],
   "source": []
  }
 ],
 "metadata": {
  "kernelspec": {
   "display_name": "Python 3 (ipykernel)",
   "language": "python",
   "name": "python3"
  },
  "language_info": {
   "codemirror_mode": {
    "name": "ipython",
    "version": 3
   },
   "file_extension": ".py",
   "mimetype": "text/x-python",
   "name": "python",
   "nbconvert_exporter": "python",
   "pygments_lexer": "ipython3",
   "version": "3.9.7"
  }
 },
 "nbformat": 4,
 "nbformat_minor": 5
}