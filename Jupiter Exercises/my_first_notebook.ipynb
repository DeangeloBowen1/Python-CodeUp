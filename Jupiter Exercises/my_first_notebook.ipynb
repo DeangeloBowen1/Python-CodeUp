{
 "cells": [
  {
   "cell_type": "code",
   "execution_count": 4,
   "id": "aae570d9",
   "metadata": {},
   "outputs": [
    {
     "name": "stdout",
     "output_type": "stream",
     "text": [
      "Would you like to begin working in Python? yes\n",
      "Well it's time to get ready!\n"
     ]
    }
   ],
   "source": [
    "\"\"\"\n",
    "Jupyter Notebook Shortcuts: \n",
    "\n",
    "- Shift + Enter run the current cell, select below\n",
    "\n",
    "- Ctrl + Enter run selected cells\n",
    "\n",
    "- Alt + Enter run the current cell, insert below\n",
    "\n",
    "- Ctrl + S save and checkpoint\n",
    "\"\"\"\n",
    "\n",
    "ans = input(\"Would you like to begin working in Python? \").upper()\n",
    "\n",
    "if ans == 'Yes':\n",
    "    print(\"Then let's do this!\")\n",
    "else:\n",
    "    print(\"Well it's time to get ready!\")\n"
   ]
  },
  {
   "cell_type": "code",
   "execution_count": null,
   "id": "7930614d",
   "metadata": {},
   "outputs": [],
   "source": [
    "print(\"hello\")"
   ]
  }
 ],
 "metadata": {
  "kernelspec": {
   "display_name": "Python 3 (ipykernel)",
   "language": "python",
   "name": "python3"
  },
  "language_info": {
   "codemirror_mode": {
    "name": "ipython",
    "version": 3
   },
   "file_extension": ".py",
   "mimetype": "text/x-python",
   "name": "python",
   "nbconvert_exporter": "python",
   "pygments_lexer": "ipython3",
   "version": "3.9.7"
  }
 },
 "nbformat": 4,
 "nbformat_minor": 5
}